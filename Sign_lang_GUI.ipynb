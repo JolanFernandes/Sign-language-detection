{
 "cells": [
  {
   "cell_type": "code",
   "execution_count": 1,
   "id": "957c9c26",
   "metadata": {},
   "outputs": [
    {
     "name": "stdout",
     "output_type": "stream",
     "text": [
      "WARNING:tensorflow:From C:\\Users\\Jolan\\anaconda3\\Lib\\site-packages\\keras\\src\\losses.py:2976: The name tf.losses.sparse_softmax_cross_entropy is deprecated. Please use tf.compat.v1.losses.sparse_softmax_cross_entropy instead.\n",
      "\n"
     ]
    }
   ],
   "source": [
    "import cv2\n",
    "import imutils\n",
    "import tkinter as tk\n",
    "from tkinter import filedialog\n",
    "import tensorflow as tf\n",
    "from tensorflow.keras import preprocessing\n",
    "from tensorflow.keras.activations import softmax\n",
    "import numpy as np\n",
    "from PIL import Image,ImageTk"
   ]
  },
  {
   "cell_type": "code",
   "execution_count": 2,
   "id": "a083be87",
   "metadata": {},
   "outputs": [
    {
     "name": "stdout",
     "output_type": "stream",
     "text": [
      "WARNING:tensorflow:From C:\\Users\\Jolan\\anaconda3\\Lib\\site-packages\\keras\\src\\backend.py:1398: The name tf.executing_eagerly_outside_functions is deprecated. Please use tf.compat.v1.executing_eagerly_outside_functions instead.\n",
      "\n",
      "WARNING:tensorflow:From C:\\Users\\Jolan\\anaconda3\\Lib\\site-packages\\keras\\src\\layers\\pooling\\max_pooling2d.py:161: The name tf.nn.max_pool is deprecated. Please use tf.nn.max_pool2d instead.\n",
      "\n"
     ]
    }
   ],
   "source": [
    "model = tf.keras.models.load_model('sign_lang_model2.h5')"
   ]
  },
  {
   "cell_type": "code",
   "execution_count": 3,
   "id": "4d54609f",
   "metadata": {},
   "outputs": [],
   "source": [
    "from tkinter import Label"
   ]
  },
  {
   "cell_type": "code",
   "execution_count": 4,
   "id": "c12a7262",
   "metadata": {},
   "outputs": [],
   "source": [
    "def open_image():\n",
    "    file_path = filedialog.askopenfilename(filetypes=[(\"Image files\", \"*.jpg *.jpeg *.png\")])\n",
    "    \n",
    "    if file_path:\n",
    "        image=cv2.imread(file_path)\n",
    "        pil_image = Image.open(file_path)\n",
    "        shape = ((80,80,3))\n",
    "        model = tf.keras.models.load_model('sign_lang_model2.h5')\n",
    "        test_image = pil_image.resize((80,80))\n",
    "        img=pil_image.resize((250,200))\n",
    "        photo = ImageTk.PhotoImage(img)\n",
    "        image_label.config(image=photo)\n",
    "        image_label.image = photo\n",
    "        test_image = preprocessing.image.img_to_array(test_image)\n",
    "        test_image = test_image / 255\n",
    "        test_image = np.expand_dims(test_image, axis =0)\n",
    "        class_names = ['A', 'B', 'C', 'D', 'E', 'F', 'G', 'H', 'I', 'J', 'K', 'L', 'M', 'N', 'O', 'P', 'Q', 'R', 'S', 'T', 'U', 'V', 'W', 'X', 'Y', 'Z', 'del', 'nothing', 'space']\n",
    "        predictions = model.predict(test_image)\n",
    "        scores = tf.nn.softmax(predictions[0])\n",
    "        scores = scores.numpy()\n",
    "        image_class = class_names[np.argmax(scores)]\n",
    "        \n",
    "        val=print(image_class)\n",
    "        label.configure(foreground=\"#011638\",text=\"predicted sign is :\"+image_class)\n",
    "        cv2.waitKey(0)\n",
    "        cv2.destroyAllWindows()\n",
    "        "
   ]
  },
  {
   "cell_type": "code",
   "execution_count": 5,
   "id": "a2d91c47",
   "metadata": {},
   "outputs": [
    {
     "name": "stdout",
     "output_type": "stream",
     "text": [
      "1/1 [==============================] - 0s 284ms/step\n",
      "B\n",
      "1/1 [==============================] - 0s 76ms/step\n",
      "U\n",
      "1/1 [==============================] - 0s 78ms/step\n",
      "J\n"
     ]
    }
   ],
   "source": [
    "root = tk.Tk()\n",
    "root.title(\"Sign Language Recognition\")\n",
    "open_button = tk.Button(root, text=\"Select Image\", command=open_image)\n",
    "open_button.pack(side='bottom',pady=50)\n",
    "root.geometry(\"550x450\")\n",
    "label=Label(root,background='#CDCDCD',font=('arial',15,'bold'))\n",
    "image_label = tk.Label(root)\n",
    "image_label.pack()\n",
    "label.pack(side='bottom',expand=True)\n",
    "root.mainloop()"
   ]
  },
  {
   "cell_type": "code",
   "execution_count": null,
   "id": "a27837c7",
   "metadata": {},
   "outputs": [],
   "source": []
  }
 ],
 "metadata": {
  "kernelspec": {
   "display_name": "Python 3 (ipykernel)",
   "language": "python",
   "name": "python3"
  },
  "language_info": {
   "codemirror_mode": {
    "name": "ipython",
    "version": 3
   },
   "file_extension": ".py",
   "mimetype": "text/x-python",
   "name": "python",
   "nbconvert_exporter": "python",
   "pygments_lexer": "ipython3",
   "version": "3.11.5"
  }
 },
 "nbformat": 4,
 "nbformat_minor": 5
}
